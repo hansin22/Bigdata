{
 "cells": [
  {
   "cell_type": "code",
   "execution_count": null,
   "id": "871a68d7",
   "metadata": {},
   "outputs": [],
   "source": [
    "import pandas as pd\n",
    "from pyspark.sql import SparkSession\n",
    "from pyspark.sql.functions import udf"
   ]
  },
  {
   "cell_type": "code",
   "execution_count": null,
   "id": "72c9c899",
   "metadata": {},
   "outputs": [],
   "source": [
    "spark = SparkSession.builder.master('local').appName(\"age_Category\").getOrCreate()"
   ]
  },
  {
   "cell_type": "code",
   "execution_count": null,
   "id": "4106e468",
   "metadata": {},
   "outputs": [],
   "source": [
    "data = [(\"Jongho\", 25), (\"Minsu\", 45), (\"Oakja\", 63)]"
   ]
  },
  {
   "cell_type": "code",
   "execution_count": null,
   "id": "78b1472b",
   "metadata": {},
   "outputs": [],
   "source": [
    "df = spark.createDataFrame(data, [\"name\", \"age\"])"
   ]
  },
  {
   "cell_type": "code",
   "execution_count": null,
   "id": "7c6d28ba",
   "metadata": {},
   "outputs": [],
   "source": [
    "def age_category(age):\n",
    "    if age < 35:\n",
    "        return \"young\"\n",
    "    elif age >= 35 and age < 60:\n",
    "        return \"adult\"\n",
    "    else:\n",
    "        return \"senior\"\n",
    "    \n",
    "age_category_udf = udf(age_category)"
   ]
  },
  {
   "cell_type": "code",
   "execution_count": null,
   "id": "5f0b48c2",
   "metadata": {},
   "outputs": [],
   "source": [
    "df.createOrReplaceTempView(\"people\")\n",
    "result = spark.sql(\"SELECT name, age_category(age) AS category FROM people\")"
   ]
  },
  {
   "cell_type": "code",
   "execution_count": null,
   "id": "6fe64535",
   "metadata": {},
   "outputs": [],
   "source": [
    "result.show()"
   ]
  }
 ],
 "metadata": {
  "kernelspec": {
   "display_name": "Python 3 (ipykernel)",
   "language": "python",
   "name": "python3"
  },
  "language_info": {
   "codemirror_mode": {
    "name": "ipython",
    "version": 3
   },
   "file_extension": ".py",
   "mimetype": "text/x-python",
   "name": "python",
   "nbconvert_exporter": "python",
   "pygments_lexer": "ipython3",
   "version": "3.10.11"
  }
 },
 "nbformat": 4,
 "nbformat_minor": 5
}
